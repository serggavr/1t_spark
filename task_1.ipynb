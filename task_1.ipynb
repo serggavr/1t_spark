{
 "cells": [
  {
   "cell_type": "markdown",
   "id": "757df362",
   "metadata": {},
   "source": [
    "### Задача 1 \n",
    "\n",
    "На вход доступен следующий фрейм данных:  \n",
    "\n",
    "| id | timestamp |\n",
    "|---|---|\n",
    "| 1 | 1562007679 |\n",
    "| 1 | 1562007710 |\n",
    "| 1 | 1562007720 |\n",
    "| 1 | 1562007750 |\n",
    "| 2 | 1564682430 |\n",
    "| 2 | 1564682450 |\n",
    "| 2 | 1564682480 |\n",
    "\n",
    "`id` — уникальный идентификатор пользователя  \n",
    "`timestamp` — время действия на сайте, совершенное данным пользователем\n",
    "\n",
    "Для каждого id рассчитайте усредненную длину сессии в рамках суток. Усредненная длина сессии рассчитывается как разница между первым и последним действием, произведенным на сайте."
   ]
  },
  {
   "cell_type": "code",
   "execution_count": 1,
   "id": "598cc27c",
   "metadata": {},
   "outputs": [
    {
     "data": {
      "text/plain": [
       "'C:\\\\Users\\\\User\\\\anaconda3\\\\lib\\\\site-packages\\\\pyspark'"
      ]
     },
     "execution_count": 1,
     "metadata": {},
     "output_type": "execute_result"
    }
   ],
   "source": [
    "import findspark\n",
    "findspark.init()\n",
    "findspark.find()"
   ]
  },
  {
   "cell_type": "code",
   "execution_count": 2,
   "id": "861bf00d",
   "metadata": {},
   "outputs": [],
   "source": [
    "from pyspark.sql import SparkSession, Row\n",
    "from pyspark.sql.types import *\n",
    "\n",
    "spark = SparkSession.builder.master(\"local[8]\")\\\n",
    "    .appName(\"SparkFirst\")\\\n",
    "    .config(\"spark.executor.memory\", \"10g\")\\\n",
    "    .config(\"spark.executor.cores\", 5)\\\n",
    "    .config(\"spark.dynamicAllocation.enabled\", \"true\")\\\n",
    "    .config(\"spark.dynamicAllocation.maxExecutors\", 5)\\\n",
    "    .config(\"spark.shuffle.service.enabled\", \"true\")\\\n",
    "    .getOrCreate()"
   ]
  },
  {
   "cell_type": "code",
   "execution_count": 3,
   "id": "e1fa1e5d",
   "metadata": {},
   "outputs": [
    {
     "name": "stdout",
     "output_type": "stream",
     "text": [
      "+---+----------+\n",
      "| id| timestamp|\n",
      "+---+----------+\n",
      "|  1|1562007679|\n",
      "|  1|1562007710|\n",
      "|  1|1562007720|\n",
      "|  1|1562007750|\n",
      "|  2|1564682430|\n",
      "|  2|1564682450|\n",
      "|  2|1564682480|\n",
      "+---+----------+\n",
      "\n"
     ]
    }
   ],
   "source": [
    "import pandas as pd\n",
    "\n",
    "data_schema = StructType([\n",
    "    StructField('id', IntegerType(), True),\n",
    "    StructField('timestamp', IntegerType(), True)\n",
    "])\n",
    "\n",
    "data = [(1, 1562007679), (1, 1562007710), (1, 1562007720), (1, 1562007750), (2, 1564682430), (2, 1564682450), (2, 1564682480)]\n",
    "rdd = spark.createDataFrame(data = data, schema = data_schema)\n",
    "rdd.createOrReplaceTempView(\"sales_df\")\n",
    "rdd.show()"
   ]
  },
  {
   "cell_type": "code",
   "execution_count": 7,
   "id": "c395d282",
   "metadata": {},
   "outputs": [
    {
     "name": "stdout",
     "output_type": "stream",
     "text": [
      "+---+----------+--------------+\n",
      "| id|      date|converted_time|\n",
      "+---+----------+--------------+\n",
      "|  1|2019-07-01|      00:01:11|\n",
      "|  2|2019-08-01|      00:00:50|\n",
      "+---+----------+--------------+\n",
      "\n"
     ]
    }
   ],
   "source": [
    "recency = spark.sql(\"\"\"\n",
    "WITH users_session AS (\n",
    "    select \n",
    "        id,\n",
    "        date(cast(timestamp AS timestamp)) as date,\n",
    "        min(cast(timestamp AS timestamp)) AS d_min,\n",
    "        max(cast(timestamp AS timestamp)) AS d_max\n",
    "    from sales_df\n",
    "    group by id, date\n",
    "),\n",
    "users_session_duration AS (\n",
    "    select \n",
    "        id,\n",
    "        date,\n",
    "        TIMESTAMPDIFF(SECOND,  d_min, d_max) as session_duration\n",
    "    from users_session\n",
    "),\n",
    "users_session_duration_converted AS (\n",
    "    select\n",
    "        id,\n",
    "        date,\n",
    "        DATE_FORMAT(TIMESTAMPADD(SECOND, session_duration, '2000-01-01 00:00:00'), \"HH:mm:ss\") AS session_time\n",
    "    from users_session_duration\n",
    ")\n",
    "\n",
    "select \n",
    "*\n",
    "from users_session_duration_converted\n",
    "\"\"\")\n",
    "recency.show()"
   ]
  },
  {
   "cell_type": "code",
   "execution_count": null,
   "id": "de41ed95",
   "metadata": {},
   "outputs": [],
   "source": [
    "spark.stop()"
   ]
  }
 ],
 "metadata": {
  "kernelspec": {
   "display_name": "Python 3 (ipykernel)",
   "language": "python",
   "name": "python3"
  },
  "language_info": {
   "codemirror_mode": {
    "name": "ipython",
    "version": 3
   },
   "file_extension": ".py",
   "mimetype": "text/x-python",
   "name": "python",
   "nbconvert_exporter": "python",
   "pygments_lexer": "ipython3",
   "version": "3.10.9"
  },
  "varInspector": {
   "cols": {
    "lenName": 16,
    "lenType": 16,
    "lenVar": 40
   },
   "kernels_config": {
    "python": {
     "delete_cmd_postfix": "",
     "delete_cmd_prefix": "del ",
     "library": "var_list.py",
     "varRefreshCmd": "print(var_dic_list())"
    },
    "r": {
     "delete_cmd_postfix": ") ",
     "delete_cmd_prefix": "rm(",
     "library": "var_list.r",
     "varRefreshCmd": "cat(var_dic_list()) "
    }
   },
   "types_to_exclude": [
    "module",
    "function",
    "builtin_function_or_method",
    "instance",
    "_Feature"
   ],
   "window_display": false
  }
 },
 "nbformat": 4,
 "nbformat_minor": 5
}
