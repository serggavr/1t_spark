{
 "cells": [
  {
   "cell_type": "code",
   "execution_count": 171,
   "id": "2bb99c0b",
   "metadata": {},
   "outputs": [],
   "source": [
    "# import findspark\n",
    "# findspark.init()\n",
    "# findspark.find()"
   ]
  },
  {
   "cell_type": "code",
   "execution_count": 172,
   "id": "c1fc7238",
   "metadata": {},
   "outputs": [],
   "source": [
    "from pyspark.sql import SparkSession\n",
    "from pyspark.sql.types import *"
   ]
  },
  {
   "cell_type": "code",
   "execution_count": 173,
   "id": "473f2965",
   "metadata": {},
   "outputs": [],
   "source": [
    "import pandas as pd\n",
    "\n",
    "\n",
    "pd.read_excel('./online_retail.xlsx', index_col=0).to_csv('./online_retail.csv', sep=\";\")\n",
    "\n",
    "\n",
    "spark = SparkSession.builder.master(\"local[8]\")\\\n",
    "    .appName(\"SparkFirst\")\\\n",
    "    .config(\"spark.executor.memory\", \"10g\")\\\n",
    "    .config(\"spark.executor.cores\", 5)\\\n",
    "    .config(\"spark.dynamicAllocation.enabled\", \"true\")\\\n",
    "    .config(\"spark.dynamicAllocation.maxExecutors\", 5)\\\n",
    "    .config(\"spark.shuffle.service.enabled\", \"true\")\\\n",
    "    .getOrCreate()\n",
    "\n",
    "data_schema = StructType([\n",
    "               StructField('InvoiceNo', StringType(), True),\n",
    "               StructField('StockCode', StringType(), True),\n",
    "               StructField('Description', StringType(), True),\n",
    "               StructField('Quantity', IntegerType(), True),\n",
    "               StructField('InvoiceDate', DateType(), True),\n",
    "               StructField('UnitPrice', DoubleType(), True),\n",
    "               StructField('CustomerID', StringType(), True),\n",
    "               StructField('Country', StringType(), True),\n",
    "            ])\n",
    "                \n",
    "df = spark.read.csv(\"./online_retail.csv\", sep=\";\", header=True, schema=data_schema)"
   ]
  },
  {
   "cell_type": "code",
   "execution_count": 174,
   "id": "8c3e58c3",
   "metadata": {},
   "outputs": [
    {
     "name": "stdout",
     "output_type": "stream",
     "text": [
      "+---------+---------+--------------------+--------+-----------+---------+----------+--------------+\n",
      "|InvoiceNo|StockCode|         Description|Quantity|InvoiceDate|UnitPrice|CustomerID|       Country|\n",
      "+---------+---------+--------------------+--------+-----------+---------+----------+--------------+\n",
      "|   536365|   85123A|WHITE HANGING HEA...|       6| 2010-12-01|     2.55|   17850.0|United Kingdom|\n",
      "|   536365|    71053| WHITE METAL LANTERN|       6| 2010-12-01|     3.39|   17850.0|United Kingdom|\n",
      "|   536365|   84406B|CREAM CUPID HEART...|       8| 2010-12-01|     2.75|   17850.0|United Kingdom|\n",
      "|   536365|   84029G|KNITTED UNION FLA...|       6| 2010-12-01|     3.39|   17850.0|United Kingdom|\n",
      "|   536365|   84029E|RED WOOLLY HOTTIE...|       6| 2010-12-01|     3.39|   17850.0|United Kingdom|\n",
      "|   536365|    22752|SET 7 BABUSHKA NE...|       2| 2010-12-01|     7.65|   17850.0|United Kingdom|\n",
      "|   536365|    21730|GLASS STAR FROSTE...|       6| 2010-12-01|     4.25|   17850.0|United Kingdom|\n",
      "|   536366|    22633|HAND WARMER UNION...|       6| 2010-12-01|     1.85|   17850.0|United Kingdom|\n",
      "|   536366|    22632|HAND WARMER RED P...|       6| 2010-12-01|     1.85|   17850.0|United Kingdom|\n",
      "|   536367|    84879|ASSORTED COLOUR B...|      32| 2010-12-01|     1.69|   13047.0|United Kingdom|\n",
      "|   536367|    22745|POPPY'S PLAYHOUSE...|       6| 2010-12-01|      2.1|   13047.0|United Kingdom|\n",
      "|   536367|    22748|POPPY'S PLAYHOUSE...|       6| 2010-12-01|      2.1|   13047.0|United Kingdom|\n",
      "|   536367|    22749|FELTCRAFT PRINCES...|       8| 2010-12-01|     3.75|   13047.0|United Kingdom|\n",
      "|   536367|    22310|IVORY KNITTED MUG...|       6| 2010-12-01|     1.65|   13047.0|United Kingdom|\n",
      "|   536367|    84969|BOX OF 6 ASSORTED...|       6| 2010-12-01|     4.25|   13047.0|United Kingdom|\n",
      "|   536367|    22623|BOX OF VINTAGE JI...|       3| 2010-12-01|     4.95|   13047.0|United Kingdom|\n",
      "|   536367|    22622|BOX OF VINTAGE AL...|       2| 2010-12-01|     9.95|   13047.0|United Kingdom|\n",
      "|   536367|    21754|HOME BUILDING BLO...|       3| 2010-12-01|     5.95|   13047.0|United Kingdom|\n",
      "|   536367|    21755|LOVE BUILDING BLO...|       3| 2010-12-01|     5.95|   13047.0|United Kingdom|\n",
      "|   536367|    21777|RECIPE BOX WITH M...|       4| 2010-12-01|     7.95|   13047.0|United Kingdom|\n",
      "+---------+---------+--------------------+--------+-----------+---------+----------+--------------+\n",
      "only showing top 20 rows\n",
      "\n"
     ]
    }
   ],
   "source": [
    "df.createOrReplaceTempView(\"sales_df\")\n",
    "df.show()"
   ]
  },
  {
   "cell_type": "code",
   "execution_count": 175,
   "id": "0fb5308f",
   "metadata": {},
   "outputs": [
    {
     "name": "stdout",
     "output_type": "stream",
     "text": [
      "Количество строк в файле:  541909\n"
     ]
    }
   ],
   "source": [
    "print(\"Количество строк в файле: \", df.count())"
   ]
  },
  {
   "cell_type": "code",
   "execution_count": 176,
   "id": "b1c97dda",
   "metadata": {},
   "outputs": [
    {
     "name": "stdout",
     "output_type": "stream",
     "text": [
      "Количество уникальных клиентов:  4373\n"
     ]
    }
   ],
   "source": [
    "print(\"Количество уникальных клиентов: \",\n",
    "      df.select(\"CustomerID\")\n",
    "          .groupby(\"CustomerID\")\n",
    "          .count()\n",
    "          .count()\n",
    "     )"
   ]
  },
  {
   "cell_type": "code",
   "execution_count": 177,
   "id": "092accd4",
   "metadata": {},
   "outputs": [
    {
     "name": "stdout",
     "output_type": "stream",
     "text": [
      "В какой стране совершается большинство покупок:\n",
      "+--------------+------+\n",
      "|       Country| count|\n",
      "+--------------+------+\n",
      "|United Kingdom|495478|\n",
      "+--------------+------+\n",
      "\n"
     ]
    }
   ],
   "source": [
    "print(\"В какой стране совершается большинство покупок:\")\n",
    "df.select(\"Country\").groupby(\"Country\").count().sort(\"count\", ascending=False).limit(1).show()"
   ]
  },
  {
   "cell_type": "code",
   "execution_count": 178,
   "id": "ab0206e0",
   "metadata": {},
   "outputs": [
    {
     "name": "stdout",
     "output_type": "stream",
     "text": [
      "Дата самой последней покупки на платформе:\n",
      "+----------------+\n",
      "|max(InvoiceDate)|\n",
      "+----------------+\n",
      "|      2011-12-09|\n",
      "+----------------+\n",
      "\n"
     ]
    }
   ],
   "source": [
    "print(\"Дата самой последней покупки на платформе:\")\n",
    "df.agg({\"InvoiceDate\": \"max\"}).show()"
   ]
  },
  {
   "cell_type": "code",
   "execution_count": 179,
   "id": "4ab2abcb",
   "metadata": {},
   "outputs": [
    {
     "name": "stdout",
     "output_type": "stream",
     "text": [
      "Дата самой ранней покупки на платформе:\n",
      "+----------------+\n",
      "|min(InvoiceDate)|\n",
      "+----------------+\n",
      "|      2010-12-01|\n",
      "+----------------+\n",
      "\n"
     ]
    }
   ],
   "source": [
    "print(\"Дата самой ранней покупки на платформе:\")\n",
    "# df.agg(min(\"InvoiceDate\")).show()\n",
    "df.agg({\"InvoiceDate\": \"min\"}).show()"
   ]
  },
  {
   "cell_type": "code",
   "execution_count": 217,
   "id": "d0f39281",
   "metadata": {},
   "outputs": [],
   "source": [
    "recency = spark.sql(\"\"\"\n",
    "WITH sales AS (\n",
    "    SELECT \n",
    "    CustomerID,\n",
    "    sum(Quantity * UnitPrice) as sum_quantity,\n",
    "    count(InvoiceNo) as sales_quantity,\n",
    "    sum(Quantity) as frequency_quantity,\n",
    "    CASE\n",
    "        WHEN to_date(InvoiceDate) <= to_date(\"2011-12-09\") AND to_date(InvoiceDate) > to_date(\"2011-12-02\") THEN \"A\"\n",
    "        WHEN to_date(InvoiceDate) <= to_date(\"2011-12-01\") AND to_date(InvoiceDate) > to_date(\"2011-11-09\") THEN \"B\"\n",
    "        ELSE \"C\"\n",
    "    END recency_group\n",
    "    FROM global_temp.sales_df\n",
    "    WHERE CustomerID IS NOT NULL\n",
    "    GROUP BY CustomerID, recency_group\n",
    "    ORDER BY CustomerID ASC\n",
    "),\n",
    "frequency_groups AS (\n",
    "    SELECT\n",
    "        avg(sales_quantity) * 2 as A,\n",
    "        avg(sales_quantity) as B  \n",
    "    FROM sales\n",
    "),\n",
    "customer_frequency_groups AS (\n",
    "    SELECT\n",
    "        CustomerID,\n",
    "        CASE\n",
    "            WHEN sales_quantity >= frequency_groups.A THEN \"A\"\n",
    "            WHEN sales_quantity < frequency_groups.A AND sales_quantity >= frequency_groups.B THEN \"B\"\n",
    "            ELSE \"C\"\n",
    "        END as Frequency\n",
    "    FROM sales\n",
    "    JOIN frequency_groups\n",
    "    ORDER BY CustomerID ASC\n",
    "),\n",
    "customer_frequency AS (\n",
    "    select \n",
    "        CustomerID,\n",
    "        min(Frequency) OVER (PARTITION BY CustomerID) as Frequency\n",
    "    from customer_frequency_groups\n",
    "    GROUP BY CustomerID, Frequency\n",
    "),\n",
    "customer_recency_group AS (\n",
    "    SELECT\n",
    "        CustomerID,\n",
    "        min(recency_group) OVER (PARTITION BY CustomerID) as Recency\n",
    "    FROM sales\n",
    "),\n",
    "customer_recency AS (\n",
    "    SELECT\n",
    "        CustomerID,\n",
    "        Recency\n",
    "    FROM customer_recency_group\n",
    "    GROUP BY CustomerID, Recency\n",
    "),\n",
    "monetary_groups AS (\n",
    "    SELECT\n",
    "        avg(sum_quantity) * 2 as A,\n",
    "        avg(sum_quantity) as B\n",
    "    FROM sales\n",
    "),\n",
    "customer_monetary_groups AS (\n",
    "    SELECT\n",
    "        CustomerID,\n",
    "        CASE\n",
    "            WHEN sales_quantity >= monetary_groups.A THEN \"A\"\n",
    "            WHEN sales_quantity < monetary_groups.A AND sales_quantity >= monetary_groups.B THEN \"B\"\n",
    "            ELSE \"C\"\n",
    "        END as Monetary\n",
    "    FROM sales\n",
    "    JOIN monetary_groups\n",
    "    GROUP BY CustomerID, Monetary\n",
    "    ORDER BY Monetary ASC\n",
    ")\n",
    "\n",
    "select\n",
    "cast(m.CustomerID as int),\n",
    "m.Monetary,\n",
    "r.Recency,\n",
    "f.Frequency\n",
    "FROM customer_monetary_groups m\n",
    "JOIN customer_recency r ON m.CustomerID = r.CustomerID\n",
    "JOIN customer_frequency f ON m.CustomerID = f.CustomerID\n",
    "WHERE r.Recency = \"A\" AND f.Frequency = \"A\" AND m.Monetary = \"A\"\n",
    "GROUP BY m.CustomerID, m.Monetary, r.Recency, f.Frequency\n",
    "\n",
    "\"\"\")"
   ]
  },
  {
   "cell_type": "code",
   "execution_count": 220,
   "id": "ce61cfe4",
   "metadata": {},
   "outputs": [],
   "source": [
    "# recency.toDF('CustomerID', 'Monetary', 'Recency', 'Frequency')\n",
    "pandasDF = recency.toDF('CustomerID', 'Monetary', 'Recency', 'Frequency').toPandas().to_csv('./rfmDF.csv', sep=\";\")"
   ]
  },
  {
   "cell_type": "code",
   "execution_count": 219,
   "id": "b0fff6da",
   "metadata": {},
   "outputs": [
    {
     "name": "stdout",
     "output_type": "stream",
     "text": [
      "   CustomerID Monetary Recency Frequency\n",
      "0       17841        A       A         A\n",
      "1       14911        A       A         A\n",
      "2       12748        A       A         A\n"
     ]
    }
   ],
   "source": [
    "print(pandasDF)"
   ]
  },
  {
   "cell_type": "code",
   "execution_count": null,
   "id": "23077058",
   "metadata": {},
   "outputs": [],
   "source": []
  }
 ],
 "metadata": {
  "kernelspec": {
   "display_name": "Python 3 (ipykernel)",
   "language": "python",
   "name": "python3"
  },
  "language_info": {
   "codemirror_mode": {
    "name": "ipython",
    "version": 3
   },
   "file_extension": ".py",
   "mimetype": "text/x-python",
   "name": "python",
   "nbconvert_exporter": "python",
   "pygments_lexer": "ipython3",
   "version": "3.10.9"
  }
 },
 "nbformat": 4,
 "nbformat_minor": 5
}
